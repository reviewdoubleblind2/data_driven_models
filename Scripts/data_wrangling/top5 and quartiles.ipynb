{
 "cells": [
  {
   "cell_type": "markdown",
   "metadata": {},
   "source": [
    "# Jupyter: filter by length "
   ]
  },
  {
   "cell_type": "markdown",
   "metadata": {},
   "source": [
    "# Purpose of this notebook\n",
    "\n",
    "\n",
    "This jupyter is used to filter functions by length. Which means, exclude functions that are not between Q1 and Q3, also for multi class data we filter top 5 vulnerabilities."
   ]
  },
  {
   "cell_type": "code",
   "execution_count": null,
   "metadata": {},
   "outputs": [],
   "source": [
    "import collections\n",
    "import numpy as np\n",
    "import os\n",
    "import pandas as pd\n",
    "from typing import List\n",
    "from IPython.core.interactiveshell import InteractiveShell\n",
    "InteractiveShell.ast_node_interactivity = \"all\""
   ]
  },
  {
   "cell_type": "code",
   "execution_count": null,
   "metadata": {},
   "outputs": [],
   "source": [
    "#Path where you have .csv files for the three datasets (Juliet (J-DS), OUR (GH-DS), Russell (R-DS)),\n",
    "#This data must be after duplicates and ambiguous removal for each dataset\n",
    "base_path = ''\n",
    "\n",
    "# For example for Juliet Folder you must have the following files\n",
    "# B0_Juliet.csv\n",
    "# B1_Juliet.csv\n",
    "# B1_int_Juliet.csv\n",
    "# B1_iden_Juliet.csv\n",
    "# B1_iden_int_Juliet.csv"
   ]
  },
  {
   "cell_type": "code",
   "execution_count": null,
   "metadata": {},
   "outputs": [],
   "source": [
    "def remove_columns(df):\n",
    "    return df[['0','ID','NAME','VULN_N','TYPE_N','TYPE','LEN']]\n",
    "\n",
    "def filter_index_len_zero(df):\n",
    "    \"\"\"\n",
    "    Functions that resturns dataframe filtered  \n",
    "    \"\"\"\n",
    "    lst_index = df.LEN != 0\n",
    "    return df[lst_index]\n",
    "\n",
    "def define_q1_q3(df):\n",
    "    \"\"\"\n",
    "    Function that returns value dor q1 and value for q3\n",
    "    \"\"\"\n",
    "    resume = df.describe()\n",
    "    q1 = resume.loc['25%','LEN']\n",
    "    q3 = resume.loc['75%','LEN']   \n",
    "    print(resume)\n",
    "    return (q1,q3)\n",
    "\n",
    "def filter_per_range(df, lower,upper):\n",
    "    print(df.shape)\n",
    "    \n",
    "    df = df[(df.LEN >= lower)&(df.LEN <= upper)]\n",
    "    \n",
    "    return df\n",
    "\n",
    "def find_pairs_range(df,lower,upper): # OUR ONLY\n",
    "    \"\"\"\n",
    "    Function that returns a dataframe that only contains the pairs of methods that meet the criteria\n",
    "    In this case the criteria is: (# of tokes are between q1 and q3)\n",
    "    \"\"\"\n",
    "    #find rows that do not meet the criteria\n",
    "    keys = df[(df.LEN < lower)|(df.LEN > upper)][['ID','NAME']]\n",
    "    #keep unique keys \n",
    "    keys = keys.drop_duplicates(keep='first')\n",
    "\n",
    "    # set a control column \n",
    "    keys['CONTROL'] = True\n",
    "    merge = keys.merge(df, on=['ID','NAME'],suffixes = 'df', how='right').set_index(df.index) \n",
    "    merge = merge[pd.isna(merge.CONTROL)]  \n",
    "    \n",
    "    #Drop control column\n",
    "    merge.drop(['CONTROL'], axis=1, inplace= True)\n",
    "    return merge"
   ]
  },
  {
   "cell_type": "markdown",
   "metadata": {},
   "source": [
    "# Juliet"
   ]
  },
  {
   "cell_type": "code",
   "execution_count": null,
   "metadata": {},
   "outputs": [],
   "source": [
    "name = 'Juliet'\n",
    "b0_Juliet = pd.read_csv(os.path.join(base_path,f\"B0_{name}.csv\"))\n",
    "b0_Juliet = remove_columns(b0_Juliet)\n",
    "b1_Juliet = pd.read_csv(os.path.join(base_path,f\"B1_{name}.csv\"))\n",
    "b1_Juliet = remove_columns(b1_Juliet)\n",
    "b1_int_Juliet = pd.read_csv(os.path.join(base_path,f\"B1_int_{name}.csv\"))\n",
    "b1_int_Juliet = remove_columns(b1_int_Juliet)\n",
    "b1_iden_Juliet = pd.read_csv(os.path.join(base_path,f\"B1_iden_{name}.csv\"))\n",
    "b1_iden_Juliet = remove_columns(b1_iden_Juliet)\n",
    "b1_int_iden_Juliet = pd.read_csv(os.path.join(base_path,f\"B1_iden_int_{name}.csv\"))\n",
    "b1_int_iden_Juliet = remove_columns(b1_int_iden_Juliet)"
   ]
  },
  {
   "cell_type": "code",
   "execution_count": null,
   "metadata": {},
   "outputs": [],
   "source": [
    "print(b0_Juliet.shape)\n",
    "print(b1_Juliet.shape)\n",
    "print(b1_int_Juliet.shape)\n",
    "print(b1_iden_Juliet.shape)\n",
    "print(b1_int_iden_Juliet.shape)"
   ]
  },
  {
   "cell_type": "markdown",
   "metadata": {},
   "source": [
    "## Filter zero len"
   ]
  },
  {
   "cell_type": "code",
   "execution_count": null,
   "metadata": {},
   "outputs": [],
   "source": [
    "b0_Juliet= filter_index_len_zero(b0_Juliet)\n",
    "b1_Juliet= filter_index_len_zero(b1_Juliet)\n",
    "b1_int_Juliet= filter_index_len_zero(b1_int_Juliet)\n",
    "b1_iden_Juliet= filter_index_len_zero(b1_iden_Juliet)\n",
    "b1_int_iden_Juliet= filter_index_len_zero(b1_int_iden_Juliet)"
   ]
  },
  {
   "cell_type": "markdown",
   "metadata": {},
   "source": [
    "## Filter quartiles"
   ]
  },
  {
   "cell_type": "code",
   "execution_count": null,
   "metadata": {
    "scrolled": true
   },
   "outputs": [],
   "source": [
    "q1_b0, q3_b0 = define_q1_q3(b0_Juliet)\n",
    "q1_b1, q3_b1 = define_q1_q3(b1_Juliet)\n",
    "q1_b1_int, q3_b1_int = define_q1_q3(b1_int_Juliet)\n",
    "q1_b1_iden, q3_b1_iden = define_q1_q3(b1_iden_Juliet)\n",
    "q1_b1_int_iden, q3_b1_int_iden = define_q1_q3(b1_int_iden_Juliet)"
   ]
  },
  {
   "cell_type": "code",
   "execution_count": null,
   "metadata": {},
   "outputs": [],
   "source": [
    "b0_Juliet = filter_per_range(b0_Juliet,q1_b0,q3_b0)\n",
    "b1_Juliet = filter_per_range(b1_Juliet,q1_b1,q3_b1)\n",
    "b1_int_Juliet = filter_per_range(b1_int_Juliet,q1_b1_int,q3_b1_int)\n",
    "b1_iden_Juliet = filter_per_range(b1_iden_Juliet,q1_b1_iden,q3_b1_iden)\n",
    "b1_int_iden_Juliet = filter_per_range(b1_int_iden_Juliet,q1_b1_int_iden,q3_b1_int_iden)"
   ]
  },
  {
   "cell_type": "code",
   "execution_count": null,
   "metadata": {},
   "outputs": [],
   "source": [
    "df_b0_q = pd.DataFrame(columns= ['REP','Q1','Q3'])\n",
    "df_b0_q.loc[0] = ['B0',q1_b0, q3_b0]\n",
    "df_b0_q.loc[1] = ['B1',q1_b1, q3_b1]\n",
    "df_b0_q.loc[2] = ['B1_int',q1_b1_int, q3_b1_int]\n",
    "df_b0_q.loc[3] = ['B1_iden',q1_b1_iden, q3_b1_iden]\n",
    "df_b0_q.loc[4] = ['B1_int_iden',q1_b1_int_iden, q3_b1_int_iden]\n",
    "df_b0_q.head()"
   ]
  },
  {
   "cell_type": "code",
   "execution_count": null,
   "metadata": {},
   "outputs": [],
   "source": [
    "print(b0_Juliet.shape)\n",
    "print(b1_Juliet.shape)\n",
    "print(b1_int_Juliet.shape)\n",
    "print(b1_iden_Juliet.shape)\n",
    "print(b1_int_iden_Juliet.shape)"
   ]
  },
  {
   "cell_type": "code",
   "execution_count": null,
   "metadata": {},
   "outputs": [],
   "source": [
    "b0_Juliet.TYPE.nunique()\n",
    "b1_Juliet.TYPE.nunique()\n",
    "b1_int_Juliet.TYPE.nunique()\n",
    "b1_iden_Juliet.TYPE.nunique()\n",
    "b1_int_iden_Juliet.TYPE.nunique()"
   ]
  },
  {
   "cell_type": "code",
   "execution_count": null,
   "metadata": {},
   "outputs": [],
   "source": [
    "b0_Juliet.VULN_N.value_counts()\n",
    "b1_Juliet.VULN_N.value_counts()\n",
    "b1_int_Juliet.VULN_N.value_counts()\n",
    "b1_iden_Juliet.VULN_N.value_counts()\n",
    "b1_int_iden_Juliet.VULN_N.value_counts()"
   ]
  },
  {
   "cell_type": "markdown",
   "metadata": {},
   "source": [
    "## Juliet Save data for binary classifiers"
   ]
  },
  {
   "cell_type": "code",
   "execution_count": null,
   "metadata": {},
   "outputs": [],
   "source": [
    "# SAVE JULIET\n",
    "b0_Juliet.to_csv(os.path.join('models','binary_b0_Juliet.csv'),index=False)\n",
    "b1_Juliet.to_csv(os.path.join('models','binary_b1_Juliet.csv'),index=False)\n",
    "b1_int_Juliet.to_csv(os.path.join('models','binary_b1_int_Juliet.csv'),index=False)\n",
    "b1_iden_Juliet.to_csv(os.path.join('models','binary_b1_iden_Juliet.csv'),index=False)\n",
    "b1_int_iden_Juliet.to_csv(os.path.join('models','binary_b1_int_iden_Juliet.csv'),index=False)"
   ]
  },
  {
   "cell_type": "markdown",
   "metadata": {},
   "source": [
    "# OUR"
   ]
  },
  {
   "cell_type": "code",
   "execution_count": null,
   "metadata": {},
   "outputs": [],
   "source": [
    "name = 'our'\n",
    "b0_OUR= pd.read_csv(os.path.join(base_path,f\"B0_{name}.csv\"))\n",
    "b0_OUR = remove_columns(b0_OUR)\n",
    "b1_OUR= pd.read_csv(os.path.join(base_path,f\"B1_{name}.csv\"))\n",
    "b1_OUR = remove_columns(b1_OUR)\n",
    "b1_int_OUR= pd.read_csv(os.path.join(base_path,f\"B1_int_{name}.csv\"))\n",
    "b1_int_OUR = remove_columns(b1_int_OUR)\n",
    "b1_iden_OUR= pd.read_csv(os.path.join(base_path,f\"B1_iden_{name}.csv\"))\n",
    "b1_iden_OUR = remove_columns(b1_iden_OUR)\n",
    "b1_int_iden_OUR= pd.read_csv(os.path.join(base_path,f\"B1_iden_int_{name}.csv\"))\n",
    "b1_int_iden_OUR = remove_columns(b1_int_iden_OUR)"
   ]
  },
  {
   "cell_type": "code",
   "execution_count": null,
   "metadata": {},
   "outputs": [],
   "source": [
    "print(b0_OUR.shape)\n",
    "print(b1_OUR.shape)\n",
    "print(b1_int_OUR.shape)\n",
    "print(b1_iden_OUR.shape)\n",
    "print(b1_int_iden_OUR.shape)"
   ]
  },
  {
   "cell_type": "markdown",
   "metadata": {},
   "source": [
    "## Filter zero len"
   ]
  },
  {
   "cell_type": "code",
   "execution_count": null,
   "metadata": {},
   "outputs": [],
   "source": [
    "b0_OUR= filter_index_len_zero(b0_OUR)\n",
    "b1_OUR= filter_index_len_zero(b1_OUR)\n",
    "b1_int_OUR= filter_index_len_zero(b1_int_OUR)\n",
    "b1_iden_OUR= filter_index_len_zero(b1_iden_OUR)\n",
    "b1_int_iden_OUR= filter_index_len_zero(b1_int_iden_OUR)"
   ]
  },
  {
   "cell_type": "markdown",
   "metadata": {},
   "source": [
    "## Filter quartiles"
   ]
  },
  {
   "cell_type": "code",
   "execution_count": null,
   "metadata": {
    "scrolled": true
   },
   "outputs": [],
   "source": [
    "q1_b0, q3_b0 = define_q1_q3(b0_OUR)\n",
    "q1_b1, q3_b1 = define_q1_q3(b1_OUR)\n",
    "q1_b1_int, q3_b1_int = define_q1_q3(b1_int_OUR)\n",
    "q1_b1_iden, q3_b1_iden = define_q1_q3(b1_iden_OUR)\n",
    "q1_b1_int_iden, q3_b1_int_iden = define_q1_q3(b1_int_iden_OUR)"
   ]
  },
  {
   "cell_type": "code",
   "execution_count": null,
   "metadata": {},
   "outputs": [],
   "source": [
    "b0_OUR = find_pairs_range(b0_OUR,q1_b0,q3_b0)\n",
    "b1_OUR = find_pairs_range(b1_OUR,q1_b1,q3_b1)\n",
    "b1_int_OUR = find_pairs_range(b1_int_OUR,q1_b1_int,q3_b1_int)\n",
    "b1_iden_OUR = find_pairs_range(b1_iden_OUR,q1_b1_iden,q3_b1_iden)\n",
    "b1_int_iden_OUR = find_pairs_range(b1_int_iden_OUR,q1_b1_int_iden,q3_b1_int_iden)"
   ]
  },
  {
   "cell_type": "code",
   "execution_count": null,
   "metadata": {},
   "outputs": [],
   "source": [
    "df_OUR_q = pd.DataFrame(columns= ['REP','Q1','Q3'])\n",
    "df_OUR_q.loc[0] = ['B0',q1_b0, q3_b0]\n",
    "df_OUR_q.loc[1] = ['B1',q1_b1, q3_b1]\n",
    "df_OUR_q.loc[2] = ['B1_int',q1_b1_int, q3_b1_int]\n",
    "df_OUR_q.loc[3] = ['B1_iden',q1_b1_iden, q3_b1_iden]\n",
    "df_OUR_q.loc[4] = ['B1_int_iden',q1_b1_int_iden, q3_b1_int_iden]\n",
    "df_OUR_q.head()"
   ]
  },
  {
   "cell_type": "code",
   "execution_count": null,
   "metadata": {},
   "outputs": [],
   "source": [
    "print(b0_OUR.shape)\n",
    "print(b1_OUR.shape)\n",
    "print(b1_int_OUR.shape)\n",
    "print(b1_iden_OUR.shape)\n",
    "print(b1_int_iden_OUR.shape)"
   ]
  },
  {
   "cell_type": "code",
   "execution_count": null,
   "metadata": {},
   "outputs": [],
   "source": [
    "b0_OUR.TYPE.nunique()\n",
    "b1_OUR.TYPE.nunique()\n",
    "b1_int_OUR.TYPE.nunique()\n",
    "b1_iden_OUR.TYPE.nunique()\n",
    "b1_int_iden_OUR.TYPE.nunique()"
   ]
  },
  {
   "cell_type": "code",
   "execution_count": null,
   "metadata": {
    "scrolled": true
   },
   "outputs": [],
   "source": [
    "b0_OUR.VULN_N.value_counts()\n",
    "b1_OUR.VULN_N.value_counts()\n",
    "b1_int_OUR.VULN_N.value_counts()\n",
    "b1_iden_OUR.VULN_N.value_counts()\n",
    "b1_int_iden_OUR.VULN_N.value_counts()"
   ]
  },
  {
   "cell_type": "code",
   "execution_count": null,
   "metadata": {},
   "outputs": [],
   "source": [
    "set(b0_OUR.TYPE.unique())- set(b1_int_iden_OUR.TYPE.unique())"
   ]
  },
  {
   "cell_type": "markdown",
   "metadata": {},
   "source": [
    "## OUR Save data for binary classifiers"
   ]
  },
  {
   "cell_type": "code",
   "execution_count": null,
   "metadata": {},
   "outputs": [],
   "source": [
    "#SAVE OUR\n",
    "b0_OUR.to_csv(os.path.join('models','binary_b0_OUR.csv'),index=False)\n",
    "b1_OUR.to_csv(os.path.join('models','binary_b1_OUR.csv'),index=False)\n",
    "b1_int_OUR.to_csv(os.path.join('models','binary_b1_int_OUR.csv'),index=False)\n",
    "b1_iden_OUR.to_csv(os.path.join('models','binary_b1_iden_OUR.csv'),index=False)\n",
    "b1_int_iden_OUR.to_csv(os.path.join('models','binary_b1_int_iden_OUR.csv'),index=False)"
   ]
  },
  {
   "cell_type": "markdown",
   "metadata": {},
   "source": [
    "# RUSSELL"
   ]
  },
  {
   "cell_type": "code",
   "execution_count": null,
   "metadata": {},
   "outputs": [],
   "source": [
    "name = 'Russell'\n",
    "b0_Russell= pd.read_csv(os.path.join(base_path,f\"B0_{name}.csv\"))\n",
    "b0_Russell = remove_columns(b0_Russell)\n",
    "b1_Russell= pd.read_csv(os.path.join(base_path,f\"B1_{name}.csv\"))\n",
    "b1_Russell = remove_columns(b1_Russell)\n",
    "b1_int_Russell= pd.read_csv(os.path.join(base_path,f\"B1_int_{name}.csv\"))\n",
    "b1_int_Russell = remove_columns(b1_int_Russell)\n",
    "b1_iden_Russell= pd.read_csv(os.path.join(base_path,f\"B1_iden_{name}.csv\"))\n",
    "b1_iden_Russell = remove_columns(b1_iden_Russell)\n",
    "b1_int_iden_Russell= pd.read_csv(os.path.join(base_path,f\"B1_iden_int_{name}.csv\"))\n",
    "b1_int_iden_Russell = remove_columns(b1_int_iden_Russell)"
   ]
  },
  {
   "cell_type": "code",
   "execution_count": null,
   "metadata": {},
   "outputs": [],
   "source": [
    "print(b0_Russell.shape)\n",
    "print(b1_Russell.shape)\n",
    "print(b1_int_Russell.shape)\n",
    "print(b1_iden_Russell.shape)\n",
    "print(b1_int_iden_Russell.shape)"
   ]
  },
  {
   "cell_type": "markdown",
   "metadata": {},
   "source": [
    "## Filter zero len"
   ]
  },
  {
   "cell_type": "code",
   "execution_count": null,
   "metadata": {},
   "outputs": [],
   "source": [
    "b0_Russell= filter_index_len_zero(b0_Russell)\n",
    "b1_Russell= filter_index_len_zero(b1_Russell)\n",
    "b1_int_Russell= filter_index_len_zero(b1_int_Russell)\n",
    "b1_iden_Russell= filter_index_len_zero(b1_iden_Russell)\n",
    "b1_int_iden_Russell= filter_index_len_zero(b1_int_iden_Russell)"
   ]
  },
  {
   "cell_type": "markdown",
   "metadata": {},
   "source": [
    "## Filter quartiles"
   ]
  },
  {
   "cell_type": "code",
   "execution_count": null,
   "metadata": {
    "scrolled": true
   },
   "outputs": [],
   "source": [
    "q1_b0, q3_b0 = define_q1_q3(b0_Russell)\n",
    "q1_b1, q3_b1 = define_q1_q3(b1_Russell)\n",
    "q1_b1_int, q3_b1_int = define_q1_q3(b1_int_Russell)\n",
    "q1_b1_iden, q3_b1_iden = define_q1_q3(b1_iden_Russell)\n",
    "q1_b1_int_iden, q3_b1_int_iden = define_q1_q3(b1_int_iden_Russell)"
   ]
  },
  {
   "cell_type": "code",
   "execution_count": null,
   "metadata": {},
   "outputs": [],
   "source": [
    "b0_Russell = filter_per_range(b0_Russell,q1_b0,q3_b0)\n",
    "b1_Russell = filter_per_range(b1_Russell,q1_b1,q3_b1)\n",
    "b1_int_Russell = filter_per_range(b1_int_Russell,q1_b1_int,q3_b1_int)\n",
    "b1_iden_Russell = filter_per_range(b1_iden_Russell,q1_b1_iden,q3_b1_iden)\n",
    "b1_int_iden_Russell = filter_per_range(b1_int_iden_Russell,q1_b1_int_iden,q3_b1_int_iden)"
   ]
  },
  {
   "cell_type": "code",
   "execution_count": null,
   "metadata": {},
   "outputs": [],
   "source": [
    "df_Russell_q = pd.DataFrame(columns= ['REP','Q1','Q3'])\n",
    "df_Russell_q.loc[0] = ['B0',q1_b0, q3_b0]\n",
    "df_Russell_q.loc[1] = ['B1',q1_b1, q3_b1]\n",
    "df_Russell_q.loc[2] = ['B1_int',q1_b1_int, q3_b1_int]\n",
    "df_Russell_q.loc[3] = ['B1_iden',q1_b1_iden, q3_b1_iden]\n",
    "df_Russell_q.loc[4] = ['B1_int_iden',q1_b1_int_iden, q3_b1_int_iden]\n",
    "df_Russell_q.head()"
   ]
  },
  {
   "cell_type": "code",
   "execution_count": null,
   "metadata": {},
   "outputs": [],
   "source": [
    "print(b0_Russell.shape)\n",
    "print(b1_Russell.shape)\n",
    "print(b1_int_Russell.shape)\n",
    "print(b1_iden_Russell.shape)\n",
    "print(b1_int_iden_Russell.shape)"
   ]
  },
  {
   "cell_type": "code",
   "execution_count": null,
   "metadata": {},
   "outputs": [],
   "source": [
    "InteractiveShell.ast_node_interactivity = \"all\"\n",
    "b0_Russell.TYPE.nunique()\n",
    "b1_Russell.TYPE.nunique()\n",
    "b1_int_Russell.TYPE.nunique()\n",
    "b1_iden_Russell.TYPE.nunique()\n",
    "b1_int_iden_Russell.TYPE.nunique()"
   ]
  },
  {
   "cell_type": "code",
   "execution_count": null,
   "metadata": {},
   "outputs": [],
   "source": [
    "b0_Russell.VULN_N.value_counts()\n",
    "b1_Russell.VULN_N.value_counts()\n",
    "b1_int_Russell.VULN_N.value_counts()\n",
    "b1_iden_Russell.VULN_N.value_counts()\n",
    "b1_int_iden_Russell.VULN_N.value_counts()"
   ]
  },
  {
   "cell_type": "code",
   "execution_count": null,
   "metadata": {},
   "outputs": [],
   "source": [
    "b0_Russell.TYPE.nunique()"
   ]
  },
  {
   "cell_type": "code",
   "execution_count": null,
   "metadata": {},
   "outputs": [],
   "source": [
    "b0_Russell.head()"
   ]
  },
  {
   "cell_type": "code",
   "execution_count": null,
   "metadata": {},
   "outputs": [],
   "source": [
    "# SAVE RUSSELL\n",
    "b0_Russell.to_csv(os.path.join('models','binary_b0_Russell.csv'),index=False)\n",
    "b1_Russell.to_csv(os.path.join('models','binary_b1_Russell.csv'),index=False)\n",
    "b1_int_Russell.to_csv(os.path.join('models','binary_b1_int_Russell.csv'),index=False)\n",
    "b1_iden_Russell.to_csv(os.path.join('models','binary_b1_iden_Russell.csv'),index=False)\n",
    "b1_int_iden_Russell.to_csv(os.path.join('models','binary_b1_int_iden_Russell.csv'),index=False)"
   ]
  },
  {
   "cell_type": "markdown",
   "metadata": {},
   "source": [
    "# Filter top 5"
   ]
  },
  {
   "cell_type": "code",
   "execution_count": null,
   "metadata": {},
   "outputs": [],
   "source": [
    "def y_filter_type_top_x(df,x):\n",
    "    \n",
    "    vul = df[df.VULN_N == 'VULN']\n",
    "    top_vul = vul['TYPE'].value_counts().head(x).rename_axis('TOP_VUL').reset_index()['TOP_VUL'].to_frame()\n",
    "    df = top_vul.merge(df,how = 'inner',right_on= 'TYPE', left_on= 'TOP_VUL')\n",
    "    \n",
    "    return df"
   ]
  },
  {
   "cell_type": "markdown",
   "metadata": {},
   "source": [
    "## JULIET TOP 5"
   ]
  },
  {
   "cell_type": "code",
   "execution_count": null,
   "metadata": {},
   "outputs": [],
   "source": [
    "b0_Juliet = y_filter_type_top_x(b0_Juliet,5)\n",
    "b1_Juliet = y_filter_type_top_x(b1_Juliet,5)\n",
    "b1_int_Juliet = y_filter_type_top_x(b1_int_Juliet,5)\n",
    "b1_iden_Juliet = y_filter_type_top_x(b1_iden_Juliet,5)\n",
    "b1_int_iden_Juliet = y_filter_type_top_x(b1_int_iden_Juliet,5)"
   ]
  },
  {
   "cell_type": "code",
   "execution_count": null,
   "metadata": {
    "scrolled": true
   },
   "outputs": [],
   "source": [
    "b0_Juliet.VULN_N.value_counts()\n",
    "b1_Juliet.VULN_N.value_counts()\n",
    "b1_int_Juliet.VULN_N.value_counts()\n",
    "b1_iden_Juliet.VULN_N.value_counts()\n",
    "b1_int_iden_Juliet.VULN_N.value_counts()"
   ]
  },
  {
   "cell_type": "code",
   "execution_count": null,
   "metadata": {},
   "outputs": [],
   "source": [
    "print('Bo')\n",
    "print(b0_Juliet.TYPE.unique())\n",
    "print('B1')\n",
    "print(b1_Juliet.TYPE.unique())\n",
    "print('B1_int')\n",
    "print(b1_int_Juliet.TYPE.unique())\n",
    "print('B1_iden')\n",
    "print(b1_iden_Juliet.TYPE.unique())\n",
    "print('B1_int_iden')\n",
    "print(b1_int_iden_Juliet.TYPE.unique())"
   ]
  },
  {
   "cell_type": "markdown",
   "metadata": {},
   "source": [
    "## OUR TOP 5"
   ]
  },
  {
   "cell_type": "code",
   "execution_count": null,
   "metadata": {},
   "outputs": [],
   "source": [
    "b0_OUR = y_filter_type_top_x(b0_OUR,5)\n",
    "b1_OUR = y_filter_type_top_x(b1_OUR,5)\n",
    "b1_int_OUR = y_filter_type_top_x(b1_int_OUR,5)\n",
    "b1_iden_OUR = y_filter_type_top_x(b1_iden_OUR,5)\n",
    "b1_int_iden_OUR = y_filter_type_top_x(b1_int_iden_OUR,5)"
   ]
  },
  {
   "cell_type": "code",
   "execution_count": null,
   "metadata": {},
   "outputs": [],
   "source": [
    "b0_OUR.VULN_N.value_counts()\n",
    "b1_OUR.VULN_N.value_counts()\n",
    "b1_int_OUR.VULN_N.value_counts()\n",
    "b1_iden_OUR.VULN_N.value_counts()\n",
    "b1_int_iden_OUR.VULN_N.value_counts()"
   ]
  },
  {
   "cell_type": "code",
   "execution_count": null,
   "metadata": {},
   "outputs": [],
   "source": [
    "print('Bo')\n",
    "print(b0_OUR.TYPE.unique())\n",
    "print('B1')\n",
    "print(b1_OUR.TYPE.unique())\n",
    "print('B1_int')\n",
    "print(b1_int_OUR.TYPE.unique())\n",
    "print('B1_iden')\n",
    "print(b1_iden_OUR.TYPE.unique())\n",
    "print('B1_int_iden')\n",
    "print(b1_int_iden_OUR.TYPE.unique())"
   ]
  },
  {
   "cell_type": "code",
   "execution_count": null,
   "metadata": {},
   "outputs": [],
   "source": [
    "b1_int_iden_OUR.head(5)"
   ]
  },
  {
   "cell_type": "markdown",
   "metadata": {},
   "source": [
    "## RUSSELL TOP 5\n",
    "Russell has ony 5 vulnerabilities"
   ]
  },
  {
   "cell_type": "code",
   "execution_count": null,
   "metadata": {},
   "outputs": [],
   "source": [
    "def y_filter_russell_top_x(df,x):\n",
    "    top_vul = df['TYPE'].value_counts().head(x+1).rename_axis('TOP_VUL').reset_index()['TOP_VUL'].to_frame()\n",
    "    vulns = set(top_vul.TOP_VUL.unique()) \n",
    "    \n",
    "    if 'UNKNOWN' not in vulns:\n",
    "        print(top_vul.shape)\n",
    "        top_vul = top_vul.loc[0:len(vulns)-1,:]\n",
    "        print(top_vul.shape)\n",
    "        \n",
    "    df = top_vul.merge(df,how = 'inner',right_on= 'TYPE', left_on= 'TOP_VUL')\n",
    "    \n",
    "    return df"
   ]
  },
  {
   "cell_type": "code",
   "execution_count": null,
   "metadata": {},
   "outputs": [],
   "source": [
    "b0_Russell = y_filter_russell_top_x(b0_Russell,5)\n",
    "b1_Russell = y_filter_russell_top_x(b1_Russell,5)\n",
    "b1_int_Russell = y_filter_russell_top_x(b1_int_Russell,5)\n",
    "b1_iden_Russell = y_filter_russell_top_x(b1_iden_Russell,5)\n",
    "b1_int_iden_Russell = y_filter_russell_top_x(b1_int_iden_Russell,5)"
   ]
  },
  {
   "cell_type": "code",
   "execution_count": null,
   "metadata": {},
   "outputs": [],
   "source": [
    "b0_Russell.VULN_N.value_counts()\n",
    "b1_Russell.VULN_N.value_counts()\n",
    "b1_int_Russell.VULN_N.value_counts()\n",
    "b1_iden_Russell.VULN_N.value_counts()\n",
    "b1_int_iden_Russell.VULN_N.value_counts()"
   ]
  },
  {
   "cell_type": "markdown",
   "metadata": {},
   "source": [
    "# SAVE DATA FOR MODELS"
   ]
  },
  {
   "cell_type": "code",
   "execution_count": null,
   "metadata": {},
   "outputs": [],
   "source": [
    "# SAVE JULIET\n",
    "b0_Juliet.to_csv(os.path.join('models','multi_b0_Juliet.csv'),index=False)\n",
    "b1_Juliet.to_csv(os.path.join('models','multi_b1_Juliet.csv'),index=False)\n",
    "b1_int_Juliet.to_csv(os.path.join('models','multi_b1_int_Juliet.csv'),index=False)\n",
    "b1_iden_Juliet.to_csv(os.path.join('models','multi_b1_iden_Juliet.csv'),index=False)\n",
    "b1_int_iden_Juliet.to_csv(os.path.join('models','multi_b1_int_iden_Juliet.csv'),index=False)"
   ]
  },
  {
   "cell_type": "code",
   "execution_count": null,
   "metadata": {
    "scrolled": true
   },
   "outputs": [],
   "source": [
    "print(b0_Juliet[b0_Juliet.VULN_N == 'VULN']['TYPE'].value_counts())\n",
    "print(\"  \")\n",
    "print(b1_Juliet[b1_Juliet.VULN_N == 'VULN']['TYPE'].value_counts())\n",
    "print(\"  \")\n",
    "print(b1_int_Juliet[b1_int_Juliet.VULN_N == 'VULN']['TYPE'].value_counts())\n",
    "print(\"  \")\n",
    "print(b1_iden_Juliet[b1_iden_Juliet.VULN_N == 'VULN']['TYPE'].value_counts())\n",
    "print(\"  \")\n",
    "print(b1_int_iden_Juliet[b1_int_iden_Juliet.VULN_N == 'VULN']['TYPE'].value_counts())"
   ]
  },
  {
   "cell_type": "code",
   "execution_count": null,
   "metadata": {},
   "outputs": [],
   "source": [
    "#SAVE OUR\n",
    "b0_OUR.to_csv(os.path.join('models','multi_b0_OUR.csv'),index=False)\n",
    "b1_OUR.to_csv(os.path.join('models','multi_b1_OUR.csv'),index=False)\n",
    "b1_int_OUR.to_csv(os.path.join('models','multi_b1_int_OUR.csv'),index=False)\n",
    "b1_iden_OUR.to_csv(os.path.join('models','multi_b1_iden_OUR.csv'),index=False)\n",
    "b1_int_iden_OUR.to_csv(os.path.join('models','multi_b1_int_iden_OUR.csv'),index=False)"
   ]
  },
  {
   "cell_type": "code",
   "execution_count": null,
   "metadata": {
    "scrolled": true
   },
   "outputs": [],
   "source": [
    "print(b0_OUR[b0_OUR.VULN_N == 'VULN']['TYPE'].value_counts())\n",
    "print(\"  \")\n",
    "print(b1_OUR[b1_OUR.VULN_N == 'VULN']['TYPE'].value_counts())\n",
    "print(\"  \")\n",
    "print(b1_int_OUR[b1_int_OUR.VULN_N == 'VULN']['TYPE'].value_counts())\n",
    "print(\"  \")\n",
    "print(b1_iden_OUR[b1_iden_OUR.VULN_N == 'VULN']['TYPE'].value_counts())\n",
    "print(\"  \")\n",
    "print(b1_int_iden_OUR[b1_int_iden_OUR.VULN_N == 'VULN']['TYPE'].value_counts())"
   ]
  },
  {
   "cell_type": "code",
   "execution_count": null,
   "metadata": {},
   "outputs": [],
   "source": [
    "b0_Russell['TYPE_N'] = b0_Russell['TYPE_N'].apply(lambda x: 'CWE-120' if x == 'CWE-119' else x) \n",
    "b1_Russell['TYPE_N'] = b1_Russell['TYPE_N'].apply(lambda x: 'CWE-120' if x == 'CWE-119' else x) \n",
    "b1_int_Russell['TYPE_N'] = b1_int_Russell['TYPE_N'].apply(lambda x: 'CWE-120' if x == 'CWE-119' else x) \n",
    "b1_iden_Russell['TYPE_N'] = b1_iden_Russell['TYPE_N'].apply(lambda x: 'CWE-120' if x == 'CWE-119' else x) \n",
    "b1_int_iden_Russell['TYPE_N'] = b1_int_iden_Russell['TYPE_N'].apply(lambda x: 'CWE-120' if x == 'CWE-119' else x) \n",
    "\n",
    "b0_Russell['TYPE'] = b0_Russell['TYPE'].apply(lambda x: 'CWE-120' if x == 'CWE-119' else x) \n",
    "b1_Russell['TYPE'] = b1_Russell['TYPE'].apply(lambda x: 'CWE-120' if x == 'CWE-119' else x) \n",
    "b1_int_Russell['TYPE'] = b1_int_Russell['TYPE'].apply(lambda x: 'CWE-120' if x == 'CWE-119' else x) \n",
    "b1_iden_Russell['TYPE'] = b1_iden_Russell['TYPE'].apply(lambda x: 'CWE-120' if x == 'CWE-119' else x) \n",
    "b1_int_iden_Russell['TYPE'] = b1_int_iden_Russell['TYPE'].apply(lambda x: 'CWE-120' if x == 'CWE-119' else x) "
   ]
  },
  {
   "cell_type": "code",
   "execution_count": null,
   "metadata": {},
   "outputs": [],
   "source": [
    "# SAVE RUSSELL\n",
    "b0_Russell.to_csv(os.path.join('models','multi_b0_Russell.csv'),index=False)\n",
    "b1_Russell.to_csv(os.path.join('models','multi_b1_Russell.csv'),index=False)\n",
    "b1_int_Russell.to_csv(os.path.join('models','multi_b1_int_Russell.csv'),index=False)\n",
    "b1_iden_Russell.to_csv(os.path.join('models','multi_b1_iden_Russell.csv'),index=False)\n",
    "b1_int_iden_Russell.to_csv(os.path.join('models','multi_b1_int_iden_Russell.csv'),index=False)"
   ]
  },
  {
   "cell_type": "code",
   "execution_count": null,
   "metadata": {},
   "outputs": [],
   "source": [
    "print(b0_Russell[b0_Russell.VULN_N == 'VULN']['TYPE'].value_counts())\n",
    "print(\"  \")\n",
    "print(b1_Russell[b1_Russell.VULN_N == 'VULN']['TYPE'].value_counts())\n",
    "print(\"  \")\n",
    "print(b1_int_Russell[b1_int_Russell.VULN_N == 'VULN']['TYPE'].value_counts())\n",
    "print(\"  \")\n",
    "print(b1_iden_Russell[b1_iden_Russell.VULN_N == 'VULN']['TYPE'].value_counts())\n",
    "print(\"  \")\n",
    "print(b1_int_iden_Russell[b1_int_iden_Russell.VULN_N == 'VULN']['TYPE'].value_counts())"
   ]
  }
 ],
 "metadata": {
  "@webio": {
   "lastCommId": null,
   "lastKernelId": null
  },
  "kernelspec": {
   "display_name": "Python 3",
   "language": "python",
   "name": "python3"
  },
  "language_info": {
   "codemirror_mode": {
    "name": "ipython",
    "version": 3
   },
   "file_extension": ".py",
   "mimetype": "text/x-python",
   "name": "python",
   "nbconvert_exporter": "python",
   "pygments_lexer": "ipython3",
   "version": "3.7.7"
  }
 },
 "nbformat": 4,
 "nbformat_minor": 2
}
